{
 "cells": [
  {
   "cell_type": "code",
   "execution_count": 1,
   "metadata": {
    "pycharm": {
     "name": "#%%\n"
    }
   },
   "outputs": [],
   "source": [
    "import pickle\n",
    "import numpy as np\n",
    "\n",
    "from tqdm import tqdm\n",
    "from scipy.signal import medfilt\n",
    "\n",
    "from sources.utils import Config"
   ]
  },
  {
   "cell_type": "code",
   "execution_count": 2,
   "metadata": {
    "pycharm": {
     "name": "#%%\n"
    }
   },
   "outputs": [],
   "source": [
    "config = Config()"
   ]
  },
  {
   "cell_type": "code",
   "execution_count": 3,
   "metadata": {
    "pycharm": {
     "name": "#%%\n"
    }
   },
   "outputs": [],
   "source": [
    "train_files = np.loadtxt(config.data_directory + 'train_gestures.txt').astype('int16')\n",
    "valid_files = np.loadtxt(config.data_directory + 'valid_gestures.txt').astype('int16')"
   ]
  },
  {
   "cell_type": "code",
   "execution_count": 4,
   "outputs": [],
   "source": [
    "def create_dataset(gestures_path: str):\n",
    "    dataset = {'skeleton': [], 'label': []}\n",
    "\n",
    "    for i in tqdm(range(len(gestures_path))):\n",
    "        idx_gesture = gestures_path[i][0]\n",
    "        idx_finger = gestures_path[i][1]\n",
    "        idx_subject = gestures_path[i][2]\n",
    "        idx_essai = gestures_path[i][3]\n",
    "        label = gestures_path[i][4]\n",
    "\n",
    "        skeleton_path = config.data_directory + '/gesture_' + str(idx_gesture) + '/finger_' + str(idx_finger) + '/subject_' + str(idx_subject) + '/essai_' + str(idx_essai) +'/'\n",
    "\n",
    "        skeleton = np.loadtxt(skeleton_path + 'skeletons_image.txt').astype('float32')\n",
    "        for j in range(skeleton.shape[1]):\n",
    "            skeleton[:, j] = medfilt(skeleton[:, j])\n",
    "\n",
    "        dataset['skeleton'].append(skeleton)\n",
    "        dataset['label'].append(label)\n",
    "\n",
    "    return dataset"
   ],
   "metadata": {
    "collapsed": false,
    "pycharm": {
     "name": "#%%\n"
    }
   }
  },
  {
   "cell_type": "code",
   "execution_count": 5,
   "metadata": {
    "scrolled": true,
    "pycharm": {
     "name": "#%%\n"
    }
   },
   "outputs": [
    {
     "name": "stderr",
     "output_type": "stream",
     "text": [
      "100%|██████████| 1960/1960 [00:03<00:00, 540.99it/s]\n",
      "100%|██████████| 840/840 [00:01<00:00, 532.25it/s]\n"
     ]
    }
   ],
   "source": [
    "train = create_dataset(train_files)\n",
    "valid = create_dataset(valid_files)"
   ]
  },
  {
   "cell_type": "code",
   "execution_count": 6,
   "metadata": {
    "collapsed": true,
    "jupyter": {
     "outputs_hidden": true
    },
    "pycharm": {
     "name": "#%%\n"
    }
   },
   "outputs": [],
   "source": [
    "pickle.dump(train, open(config.data_directory + \"train.pkl\", \"wb\"))\n",
    "pickle.dump(valid, open(config.data_directory + \"valid.pkl\", \"wb\"))"
   ]
  }
 ],
 "metadata": {
  "kernelspec": {
   "display_name": "Python 3 (ipykernel)",
   "language": "python",
   "name": "python3"
  },
  "language_info": {
   "codemirror_mode": {
    "name": "ipython",
    "version": 3
   },
   "file_extension": ".py",
   "mimetype": "text/x-python",
   "name": "python",
   "nbconvert_exporter": "python",
   "pygments_lexer": "ipython3",
   "version": "3.10.12"
  }
 },
 "nbformat": 4,
 "nbformat_minor": 4
}